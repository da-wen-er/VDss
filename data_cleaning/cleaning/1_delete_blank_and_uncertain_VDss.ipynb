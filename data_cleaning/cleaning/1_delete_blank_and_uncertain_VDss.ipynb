{
 "cells": [
  {
   "cell_type": "code",
   "execution_count": 1,
   "metadata": {},
   "outputs": [],
   "source": [
    "import warnings\n",
    "import pandas as pd\n",
    "\n",
    "warnings.filterwarnings(\"ignore\")"
   ]
  },
  {
   "cell_type": "code",
   "execution_count": 2,
   "metadata": {},
   "outputs": [
    {
     "name": "stdout",
     "output_type": "stream",
     "text": [
      "(8242, 10)\n"
     ]
    }
   ],
   "source": [
    "data = pd.read_excel(r\"/opt/jupyter_data/data_clean/raw_data/1_all_data.xlsx\")\n",
    "print(data.shape)"
   ]
  },
  {
   "cell_type": "code",
   "execution_count": 3,
   "metadata": {},
   "outputs": [],
   "source": [
    "def del_uncertain(df):\n",
    "    \"\"\"This function removes null values and transfers the range values to another table.\"\"\"\n",
    "    # delete empty VDss\n",
    "    df = df.dropna(subset=['VDss_L_kg'])\n",
    "    df[\"VDss_L_kg\"] = df[\"VDss_L_kg\"].astype(str)\n",
    "    # remove data whose VDss is range\n",
    "    df1 = df.loc[df[\"VDss_L_kg\"].str.contains('-')]\n",
    "    # delete VDss is the range of data\n",
    "    df = df.loc[-df[\"VDss_L_kg\"].str.contains('-')]\n",
    "    df[\"VDss_L_kg\"] = df[\"VDss_L_kg\"].astype(float)\n",
    "    \n",
    "    return df, df1"
   ]
  },
  {
   "cell_type": "code",
   "execution_count": 4,
   "metadata": {
    "scrolled": true
   },
   "outputs": [],
   "source": [
    "if __name__ == \"__main__\":\n",
    "    # separate VDss of exact value and range\n",
    "    del_uncertain_data, range_data = del_uncertain(data)\n",
    "    \n",
    "    # save files\n",
    "    del_uncertain_data.to_excel('2_delete_uncertain_VDss.xlsx', index=False)\n",
    "    range_data.to_excel('1_range_VDss.xlsx', index=False)"
   ]
  }
 ],
 "metadata": {
  "kernelspec": {
   "display_name": "python37",
   "language": "python",
   "name": "python37"
  },
  "language_info": {
   "codemirror_mode": {
    "name": "ipython",
    "version": 3
   },
   "file_extension": ".py",
   "mimetype": "text/x-python",
   "name": "python",
   "nbconvert_exporter": "python",
   "pygments_lexer": "ipython3",
   "version": "3.7.10"
  }
 },
 "nbformat": 4,
 "nbformat_minor": 4
}
