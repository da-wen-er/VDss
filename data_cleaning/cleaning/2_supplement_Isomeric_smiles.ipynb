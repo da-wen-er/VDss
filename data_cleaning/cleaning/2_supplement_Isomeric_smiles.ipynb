{
 "cells": [
  {
   "cell_type": "code",
   "execution_count": 1,
   "metadata": {},
   "outputs": [],
   "source": [
    "import warnings\n",
    "import numpy as np\n",
    "import pandas as pd\n",
    "from pubchempy import get_compounds, Compound\n",
    "\n",
    "warnings.filterwarnings(\"ignore\")"
   ]
  },
  {
   "cell_type": "code",
   "execution_count": 2,
   "metadata": {},
   "outputs": [],
   "source": [
    "def get_smiles(df):\n",
    "    \"\"\"This function collects and completes SMILES.\"\"\"\n",
    "    for smi, i in zip(df[\"smiles\"], range(df.shape[0])):\n",
    "        smiles = 'error'\n",
    "        # noinspection PyBroadException\n",
    "        try:\n",
    "            if pd.isnull(smi):\n",
    "                # use the CAS number or chemical name to \n",
    "                # acquire isomeric SMILES to augment null SMILES\n",
    "                cas = df.loc[i, 'cas_number']\n",
    "                if pd.isnull(cas):\n",
    "                    chem = df.loc[i, 'chemical_name']\n",
    "                    if pd.isnull(chem):\n",
    "                        df.loc[i, 'smiles_supplementary'] = 'null'\n",
    "                    else:\n",
    "                        # generate isomeric SMILES using the chemical name\n",
    "                        for compound in get_compounds(chem, 'name'):\n",
    "                            smiles = compound.isomeric_smiles\n",
    "                        df.loc[i, 'smiles_supplementary'] = smiles\n",
    "                else:\n",
    "                    # generate isomeric SMILES using CAS number\n",
    "                    for compound in get_compounds(cas, 'name'):\n",
    "                        smiles = compound.isomeric_smiles\n",
    "                    df.loc[i, 'smiles_supplementary'] = smiles\n",
    "            else:\n",
    "                # directly add to the 'smiles supplementary' column using the SMILES\n",
    "                smiles = df.loc[i, 'smiles']\n",
    "                df.loc[i, 'smiles_supplementary'] = smiles\n",
    "        except:\n",
    "            df.loc[i, 'smiles_supplementary'] = smiles\n",
    "\n",
    "    return df"
   ]
  },
  {
   "cell_type": "code",
   "execution_count": 3,
   "metadata": {},
   "outputs": [],
   "source": [
    "def del_uncertain(df):\n",
    "    \"\"\"This function deletes incorrect SMILES and saves the incorrect SMILES information separately in another table.\"\"\" \n",
    "    # convert the 'smiles supplementary' column's type to a string\n",
    "    df[\"smiles_supplementary\"] = df[\"smiles_supplementary\"].astype(str)\n",
    "    # filter out rows for which smiles_supplementary are 'error'\n",
    "    df1 = df.loc[df[\"smiles_supplementary\"].str.contains('error')]\n",
    "    # delete the 'smiles_supplementary' column is empty and wrong data\n",
    "    df2 = df.loc[-df[\"smiles_supplementary\"].str.contains('null')]\n",
    "    df3 = df2.loc[-df2[\"smiles_supplementary\"].str.contains('error')]\n",
    "    \n",
    "    # rest the index\n",
    "    for j in [df1, df3]:\n",
    "        j.index = range(j.shape[0])\n",
    "\n",
    "    return df1, df3"
   ]
  },
  {
   "cell_type": "code",
   "execution_count": 4,
   "metadata": {},
   "outputs": [],
   "source": [
    "if __name__ == \"__main__\":\n",
    "    \n",
    "    # read data\n",
    "    data = pd.read_excel(r\"2_delete_uncertain_VDss.xlsx\")\n",
    "    # augment SMILES\n",
    "    data = get_smiles(data)\n",
    "    # separate correct and incorrect SMILES\n",
    "    smiles_error, delete_uncertain = del_uncertain(data)\n",
    "    \n",
    "    # save files\n",
    "    smiles_error.to_excel('3_smiles_error.xlsx', index=False)\n",
    "    delete_uncertain.to_excel('3_delete_uncertain_smiles.xlsx', index=False)"
   ]
  }
 ],
 "metadata": {
  "kernelspec": {
   "display_name": "Python 3 (ipykernel)",
   "language": "python",
   "name": "python3"
  },
  "language_info": {
   "codemirror_mode": {
    "name": "ipython",
    "version": 3
   },
   "file_extension": ".py",
   "mimetype": "text/x-python",
   "name": "python",
   "nbconvert_exporter": "python",
   "pygments_lexer": "ipython3",
   "version": "3.7.10"
  }
 },
 "nbformat": 4,
 "nbformat_minor": 4
}
