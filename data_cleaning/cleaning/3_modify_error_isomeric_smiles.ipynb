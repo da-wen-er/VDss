{
 "cells": [
  {
   "cell_type": "code",
   "execution_count": 1,
   "metadata": {},
   "outputs": [],
   "source": [
    "import warnings\n",
    "import pandas as pd\n",
    "from pubchempy import get_compounds, Compound\n",
    "\n",
    "warnings.filterwarnings(\"ignore\")"
   ]
  },
  {
   "cell_type": "code",
   "execution_count": 2,
   "metadata": {},
   "outputs": [
    {
     "name": "stdout",
     "output_type": "stream",
     "text": [
      "(128, 13)\n",
      "(7435, 11)\n"
     ]
    }
   ],
   "source": [
    "# read data\n",
    "modify_data = pd.read_excel(r\"3_modify.xlsx\")\n",
    "del_uncertain = pd.read_excel(r\"3_delete_uncertain_smiles.xlsx\")\n",
    "print(modify_data.shape)\n",
    "print(del_uncertain.shape)"
   ]
  },
  {
   "cell_type": "code",
   "execution_count": 3,
   "metadata": {},
   "outputs": [],
   "source": [
    "def get_smiles(df):\n",
    "    \"\"\"This function generate isomeric SMILES.\"\"\"\n",
    "    columns_1 = ['name1', 'name2']\n",
    "    columns_2 = ['smiles_1', 'smiles_2']\n",
    "    for column_1, column_2 in zip(columns_1, columns_2):\n",
    "        for chem, i in zip(df[column_1], range(df.shape[0])):\n",
    "            smiles = 'error'\n",
    "            # noinspection PyBroadException\n",
    "            try:\n",
    "                # generate isomeric SMILES using the chemical name\n",
    "                for compound in get_compounds(chem, 'name'):\n",
    "                    smiles = compound.isomeric_smiles\n",
    "                df.loc[i, column_2] = smiles\n",
    "            except:\n",
    "                df.loc[i, column_2] = smiles\n",
    "\n",
    "    return df"
   ]
  },
  {
   "cell_type": "code",
   "execution_count": 4,
   "metadata": {},
   "outputs": [],
   "source": [
    "def choice_smiles(df):\n",
    "    \"\"\"This function compares SMILES and chooses the correct SMILES.\"\"\"\n",
    "    for i, smi in zip(range(df.shape[0]), df[\"smiles_1\"]):\n",
    "        if smi == 'error':\n",
    "            smi = df.loc[i, \"smiles_2\"]\n",
    "            if smi == 'error':\n",
    "                continue\n",
    "            else:\n",
    "                # If only name2 correctly produces SMILES, \n",
    "                # maintains them, and updates the chemical name information\n",
    "                df.loc[i, \"smiles_supplementary\"] = df.loc[i, \"smiles_2\"]\n",
    "                df.loc[i, \"chemical_name\"] = df.loc[i, \"name2\"]\n",
    "        elif df.loc[i, \"smiles_2\"] == 'error':\n",
    "            # If only name1 correctly produces SMILES, maintains them, \n",
    "            # and updates the chemical name information\n",
    "            df.loc[i, \"smiles_supplementary\"] = df.loc[i, \"smiles_1\"]\n",
    "            df.loc[i, \"chemical_name\"] = df.loc[i, \"name1\"]\n",
    "        elif df.loc[i, \"smiles_1\"] == df.loc[i, \"smiles_2\"]:\n",
    "            # name1 and neme2 generate the same SMILES and retain one of the information\n",
    "            df.loc[i, \"smiles_supplementary\"] = df.loc[i, \"smiles_1\"]\n",
    "        else:\n",
    "            continue\n",
    "\n",
    "    return df"
   ]
  },
  {
   "cell_type": "code",
   "execution_count": 5,
   "metadata": {},
   "outputs": [],
   "source": [
    "def update(df, df1):\n",
    "    \"\"\"This function deletes error SMILES and merge files.\"\"\"   \n",
    "    # delete the row that contains the content of 'error'\n",
    "    df = df.loc[-df[\"smiles_supplementary\"].str.contains('error')]\n",
    "    # update index\n",
    "    df.index = range(df.shape[0])\n",
    "    # delete extra columns\n",
    "    df.drop(['name1', 'name2', 'smiles_1', 'smiles_2'], axis=1, inplace=True)\n",
    "    # combine data\n",
    "    df = pd.concat([df1, df])\n",
    "    # #update index\n",
    "    df.index = range(df.shape[0])\n",
    "    \n",
    "    return df"
   ]
  },
  {
   "cell_type": "code",
   "execution_count": 6,
   "metadata": {},
   "outputs": [],
   "source": [
    "if __name__ == \"__main__\":\n",
    "    # get isomeric SMILES\n",
    "    modify_data = get_smiles(modify_data)\n",
    "    # choice correct SMILES\n",
    "    modify_data = choice_smiles(modify_data)\n",
    "    # deletes error SMILES and merge files\n",
    "    data = update(modify_data, del_uncertain)\n",
    "    \n",
    "    # save file\n",
    "    data.to_excel(\"4_delete_uncertain_smiles.xlsx\", index=False)"
   ]
  },
  {
   "cell_type": "code",
   "execution_count": 7,
   "metadata": {},
   "outputs": [
    {
     "data": {
      "text/plain": [
       "(7473, 11)"
      ]
     },
     "execution_count": 7,
     "metadata": {},
     "output_type": "execute_result"
    }
   ],
   "source": [
    "data.shape"
   ]
  }
 ],
 "metadata": {
  "kernelspec": {
   "display_name": "Python 3 (ipykernel)",
   "language": "python",
   "name": "python3"
  },
  "language_info": {
   "codemirror_mode": {
    "name": "ipython",
    "version": 3
   },
   "file_extension": ".py",
   "mimetype": "text/x-python",
   "name": "python",
   "nbconvert_exporter": "python",
   "pygments_lexer": "ipython3",
   "version": "3.7.10"
  }
 },
 "nbformat": 4,
 "nbformat_minor": 4
}
