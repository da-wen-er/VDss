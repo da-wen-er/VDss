{
 "cells": [
  {
   "cell_type": "code",
   "execution_count": 1,
   "id": "4e8c4d1e",
   "metadata": {},
   "outputs": [],
   "source": [
    "import warnings\n",
    "import numpy as np\n",
    "import pandas as pd\n",
    "import lightgbm as lgb\n",
    "import matplotlib.pyplot as plt\n",
    "from sklearn.linear_model import LinearRegression, SGDRegressor\n",
    "from sklearn.metrics import mean_squared_error, mean_absolute_error\n",
    "from sklearn.model_selection import train_test_split, KFold, GridSearchCV, cross_val_score\n",
    "\n",
    "warnings.filterwarnings(\"ignore\")\n",
    "plt.rcParams.update({'figure.max_open_warning': 0})"
   ]
  },
  {
   "cell_type": "code",
   "execution_count": 2,
   "id": "a569a50b",
   "metadata": {},
   "outputs": [],
   "source": [
    "# read data\n",
    "features = pd.read_excel(r\"/opt/jupyter_data/model/feature/final_features.xlsx\")\n",
    "target = pd.read_excel(r\"/opt/jupyter_data/model/feature/final_data.xlsx\")\n",
    "\n",
    "# extract features and target data\n",
    "X = features.values\n",
    "y = target['logVDss'].values\n",
    "# split the data, 80% is the training set and 20% is the test set\n",
    "X_train, X_test, y_train, y_test = train_test_split(X, y, test_size=0.2, random_state=42)"
   ]
  },
  {
   "cell_type": "code",
   "execution_count": 3,
   "id": "83fdba8e",
   "metadata": {},
   "outputs": [],
   "source": [
    "def train_model(model, param_grid):\n",
    "    \"\"\"This function trains the model and optimizes hyperparameters.\"\"\"\n",
    "    if len(param_grid) > 0:\n",
    "        # setup grid search parameters\n",
    "        gsearch = GridSearchCV(model,\n",
    "                               param_grid,\n",
    "                               cv=10,\n",
    "                               scoring='neg_mean_squared_error',\n",
    "                               verbose=1,\n",
    "                               return_train_score=True)\n",
    "        # search the grid\n",
    "        gsearch.fit(X_train, y_train)\n",
    "        # extract best model from the grid\n",
    "        model = gsearch.best_estimator_\n",
    "        best_idx = gsearch.best_index_\n",
    "        # get cv scores for best model\n",
    "        grid_results = pd.DataFrame(gsearch.cv_results_)\n",
    "        cv_mean = abs(grid_results.loc[best_idx, 'mean_test_score'])\n",
    "        cv_std = grid_results.loc[best_idx, 'std_test_score']\n",
    "        print(\"Best parameters found by grid search are:\", gsearch.best_params_)\n",
    "    else:\n",
    "        grid_results = []\n",
    "        # model training\n",
    "        model = model.fit(X_train, y_train)\n",
    "        cv_results = cross_val_score(model,\n",
    "                                     X_train,\n",
    "                                     y_train,\n",
    "                                     cv=10,\n",
    "                                     scoring='neg_mean_squared_error')\n",
    "        cv_mean = abs(np.mean(cv_results))\n",
    "        cv_std = np.std(cv_results)\n",
    "    # calculate the MSE and R2 of the train and test sets\n",
    "    MSE_train_score = mean_squared_error(y_train, model.predict(X_train))\n",
    "    MSE_test_score = mean_squared_error(y_test, model.predict(X_test))\n",
    "    R2_train_score = model.score(X_train, y_train)\n",
    "    R2_test_score = model.score(X_test, y_test)\n",
    "    test_score = pd.Series({'R2': R2_test_score, 'MSE': MSE_test_score})\n",
    "\n",
    "    # print stats on model performance\n",
    "    print('----------------')\n",
    "    print(model)\n",
    "    print('----------------')\n",
    "    print(\"GridSearchCV train R2:  \", R2_train_score)\n",
    "    print(\"GridSearchCV train MSE:  \", MSE_train_score)\n",
    "    print(\"GridSearchCV test R2:  \", R2_test_score)\n",
    "    print(\"GridSearchCV test MSE:  \", MSE_test_score)\n",
    "    print('cross_val: mean=', cv_mean, ', std=', cv_std)\n",
    "\n",
    "    return model, test_score, grid_results"
   ]
  },
  {
   "cell_type": "code",
   "execution_count": 4,
   "id": "40150685",
   "metadata": {},
   "outputs": [],
   "source": [
    "def fold_n(n, fold_error):\n",
    "    # count the number of fold_error less than n\n",
    "    number = sum[abs(fold_error[\"FE_score\"]) < n]\n",
    "    # calculate n-fold fold error\n",
    "    n_fold_error = number / len(fold_error)\n",
    "    return n_fold_error"
   ]
  },
  {
   "cell_type": "code",
   "execution_count": 5,
   "id": "0348410c",
   "metadata": {},
   "outputs": [],
   "source": [
    "def cross_validation(folds, lgb_reg):\n",
    "    \"\"\"This function gets the MSE, R2, MAE, RMSE values of the model's ten-fold cross-validation.\"\"\"\n",
    "    FE_score = []\n",
    "    n_fold_error = []\n",
    "    # ten-fold cross-validation\n",
    "    kf = KFold(n_splits=folds, shuffle=True, random_state=42)\n",
    "    # record training and prediction MSE, R2, MAE, RMSE values\n",
    "    score_dict = {'train_mse': [], 'test_mse': [], 'train_r2': [], 'test_r2': [], 'train_mae': [], 'test_mae': [],\n",
    "                  'train_rmse': [], 'test_rmse': []}\n",
    "\n",
    "    for i, (train_index, test_index) in enumerate(kf.split(X)):\n",
    "        # split training and test set\n",
    "        X_train_KFold, X_test_KFold = X[train_index], X[test_index]\n",
    "        y_train_KFold, y_test_KFold = y[train_index], y[test_index]\n",
    "        # train model\n",
    "        lgb_reg.fit(X=X_train_KFold,\n",
    "                    y=y_train_KFold)\n",
    "\n",
    "        # make predictions\n",
    "        y_train_KFold_predict = lgb_reg.predict(X_train_KFold)\n",
    "        y_test_KFold_predict = lgb_reg.predict(X_test_KFold)\n",
    "\n",
    "        # calculate train and test set MSE, R2, MAE, RMSE\n",
    "        train_r2 = lgb_reg.score(X_train_KFold, y_train_KFold)\n",
    "        test_r2 = lgb_reg.score(X_test_KFold, y_test_KFold)\n",
    "        train_mse = mean_squared_error(y_train_KFold_predict, y_train_KFold)\n",
    "        test_mse = mean_squared_error(y_test_KFold_predict, y_test_KFold)\n",
    "        train_mae = mean_absolute_error(y_train_KFold_predict, y_train_KFold)\n",
    "        test_mae = mean_absolute_error(y_test_KFold_predict, y_test_KFold)\n",
    "        train_rmse = train_mse ** 0.5\n",
    "        test_rmse = test_mse ** 0.5\n",
    "\n",
    "        # calculate fold error\n",
    "        for y_pred, y_exp in zip(y_test_KFold_predict, y_test_KFold):\n",
    "            if y_pred > y_exp:\n",
    "                z = y_pred / y_exp\n",
    "            else:\n",
    "                z = y_exp / y_pred\n",
    "            FE_score.append(z)\n",
    "\n",
    "        # merge training and prediction MSE, R2, MAE, RMSE values\n",
    "        score_dict['train_mse'].append(train_mse)\n",
    "        score_dict['test_mse'].append(test_mse)\n",
    "        score_dict['train_r2'].append(train_r2)\n",
    "        score_dict['test_r2'].append(test_r2)\n",
    "        score_dict['train_mae'].append(train_mae)\n",
    "        score_dict['test_mae'].append(test_mae)\n",
    "        score_dict['train_rmse'].append(train_rmse)\n",
    "        score_dict['test_rmse'].append(test_rmse)\n",
    "    score_dict = pd.DataFrame(score_dict)\n",
    "\n",
    "    FE_score = pd.DataFrame(FE_score, columns=[\"FE_score\"])\n",
    "    FE_score[\"FE_score\"].astype(float)\n",
    "\n",
    "    # calculate 2-, 3- and 4-fold error\n",
    "    for m in (2, 3, 4):\n",
    "        n_fold_error.append(fold_n(m, FE_score))\n",
    "\n",
    "    score_dict.loc[0:2, 'fold_error'] = n_fold_error\n",
    "\n",
    "    return score_dict"
   ]
  },
  {
   "cell_type": "code",
   "execution_count": 6,
   "id": "147f5bf0",
   "metadata": {},
   "outputs": [
    {
     "name": "stdout",
     "output_type": "stream",
     "text": [
      "----------------\n",
      "LGBMRegressor(random_state=42)\n",
      "----------------\n",
      "GridSearchCV train R2:   0.9866676755629826\n",
      "GridSearchCV train MSE:   0.005157143773662749\n",
      "GridSearchCV test R2:   0.7988898071722357\n",
      "GridSearchCV test MSE:   0.07901583255001599\n",
      "cross_val: mean= 0.07995905254306793 , std= 0.01976270698797487\n"
     ]
    }
   ],
   "source": [
    "# places to store optimal models and scores\n",
    "opt_models = dict()\n",
    "model_name = 'LGB'\n",
    "opt_models[model_name], origin_score, origin_results = train_model(lgb.LGBMRegressor(random_state=42), [])"
   ]
  },
  {
   "cell_type": "code",
   "execution_count": 7,
   "id": "a6df5a76",
   "metadata": {},
   "outputs": [
    {
     "name": "stdout",
     "output_type": "stream",
     "text": [
      "Fitting 10 folds for each of 180 candidates, totalling 1800 fits\n",
      "Best parameters found by grid search are: {'learning_rate': 0.1, 'n_estimators': 290}\n",
      "----------------\n",
      "LGBMRegressor(n_estimators=290, random_state=42)\n",
      "----------------\n",
      "GridSearchCV train R2:   0.9964266698963652\n",
      "GridSearchCV train MSE:   0.0013822178707289837\n",
      "GridSearchCV test R2:   0.8087506292343972\n",
      "GridSearchCV test MSE:   0.07514153332174882\n",
      "cross_val: mean= 0.07811558495643607 , std= 0.02067011326628066\n"
     ]
    }
   ],
   "source": [
    "# n_estimators and learning_rate together for hyperparameter optimization\n",
    "opt_models1 = dict()\n",
    "opt_models1[model_name], score1, grid_results1 = train_model(\n",
    "    lgb.LGBMRegressor(num_leaves=31, random_state=42),\n",
    "    {'n_estimators': np.arange(100, 300, 10), 'learning_rate': np.arange(0.1, 1, 0.1)})"
   ]
  },
  {
   "cell_type": "code",
   "execution_count": 8,
   "id": "e8657977",
   "metadata": {
    "scrolled": true
   },
   "outputs": [
    {
     "name": "stdout",
     "output_type": "stream",
     "text": [
      "Fitting 10 folds for each of 200 candidates, totalling 2000 fits\n",
      "Best parameters found by grid search are: {'learning_rate': 0.07, 'n_estimators': 299}\n",
      "----------------\n",
      "LGBMRegressor(learning_rate=0.07, n_estimators=299, random_state=42)\n",
      "----------------\n",
      "GridSearchCV train R2:   0.9958155553942302\n",
      "GridSearchCV train MSE:   0.001618606158800473\n",
      "GridSearchCV test R2:   0.8137978351784887\n",
      "GridSearchCV test MSE:   0.07315849519664831\n",
      "cross_val: mean= 0.0765047345616303 , std= 0.018431926539873918\n"
     ]
    }
   ],
   "source": [
    "# n_estimators and learning_rate together for hyperparameter optimization\n",
    "opt_models2 = dict()\n",
    "opt_models2[model_name], score2, grid_results2 = train_model(\n",
    "    lgb.LGBMRegressor(num_leaves=31, random_state=42),\n",
    "    {'n_estimators': np.arange(280, 300, 1), 'learning_rate': np.linspace(0.01, 0.1, 10)})"
   ]
  },
  {
   "cell_type": "code",
   "execution_count": 9,
   "id": "0c397431",
   "metadata": {},
   "outputs": [
    {
     "name": "stdout",
     "output_type": "stream",
     "text": [
      "Fitting 10 folds for each of 60 candidates, totalling 600 fits\n",
      "Best parameters found by grid search are: {'learning_rate': 0.07, 'n_estimators': 302}\n",
      "----------------\n",
      "LGBMRegressor(learning_rate=0.07, n_estimators=302, random_state=42)\n",
      "----------------\n",
      "GridSearchCV train R2:   0.9958521216399912\n",
      "GridSearchCV train MSE:   0.001604461784535998\n",
      "GridSearchCV test R2:   0.8137442821169399\n",
      "GridSearchCV test MSE:   0.07317953609807841\n",
      "cross_val: mean= 0.07649950677555047 , std= 0.01844616989973527\n"
     ]
    }
   ],
   "source": [
    "# n_estimators and learning_rate together for hyperparameter optimization\n",
    "opt_models3 = dict()\n",
    "opt_models3[model_name], score3, grid_results3 = train_model(\n",
    "    lgb.LGBMRegressor(num_leaves=31, random_state=42),\n",
    "    {'n_estimators': np.arange(299, 305, 1), 'learning_rate': np.linspace(0.01, 0.1, 10)})"
   ]
  },
  {
   "cell_type": "code",
   "execution_count": 10,
   "id": "f43fffe7",
   "metadata": {},
   "outputs": [
    {
     "name": "stdout",
     "output_type": "stream",
     "text": [
      "Fitting 10 folds for each of 19 candidates, totalling 190 fits\n",
      "Best parameters found by grid search are: {'max_depth': 16}\n",
      "----------------\n",
      "LGBMRegressor(learning_rate=0.07, max_depth=16, n_estimators=299,\n",
      "              random_state=42)\n",
      "----------------\n",
      "GridSearchCV train R2:   0.995877791578806\n",
      "GridSearchCV train MSE:   0.0015945322658122351\n",
      "GridSearchCV test R2:   0.8127985715071635\n",
      "GridSearchCV test MSE:   0.07355110409337572\n",
      "cross_val: mean= 0.07653128650679022 , std= 0.01875883074135193\n"
     ]
    }
   ],
   "source": [
    "# hyperparameter optimization for max_depth\n",
    "opt_models4 = dict()\n",
    "opt_models4[model_name], score4, grid_results4 = train_model(\n",
    "    lgb.LGBMRegressor(num_leaves=31, learning_rate=0.07, n_estimators=299, random_state=42),\n",
    "    {'max_depth': np.arange(1, 20, 1)})"
   ]
  },
  {
   "cell_type": "code",
   "execution_count": 11,
   "id": "00318881",
   "metadata": {},
   "outputs": [
    {
     "name": "stdout",
     "output_type": "stream",
     "text": [
      "Fitting 10 folds for each of 48 candidates, totalling 480 fits\n",
      "Best parameters found by grid search are: {'num_leaves': 31}\n",
      "----------------\n",
      "LGBMRegressor(learning_rate=0.07, n_estimators=299, random_state=42)\n",
      "----------------\n",
      "GridSearchCV train R2:   0.9958155553942302\n",
      "GridSearchCV train MSE:   0.001618606158800473\n",
      "GridSearchCV test R2:   0.8137978351784887\n",
      "GridSearchCV test MSE:   0.07315849519664831\n",
      "cross_val: mean= 0.0765047345616303 , std= 0.018431926539873918\n"
     ]
    }
   ],
   "source": [
    "# hyperparameter optimization for num_leaves\n",
    "opt_models5 = dict()\n",
    "opt_models5[model_name], score5, grid_results5 = train_model(\n",
    "    lgb.LGBMRegressor(learning_rate=0.07, n_estimators=299, random_state=42), {'num_leaves': np.arange(2, 50, 1)})"
   ]
  },
  {
   "cell_type": "code",
   "execution_count": 12,
   "id": "450f6eaa",
   "metadata": {},
   "outputs": [
    {
     "name": "stdout",
     "output_type": "stream",
     "text": [
      "Fitting 10 folds for each of 10 candidates, totalling 100 fits\n",
      "Best parameters found by grid search are: {'reg_alpha': 0.0}\n",
      "----------------\n",
      "LGBMRegressor(learning_rate=0.07, n_estimators=299, random_state=42)\n",
      "----------------\n",
      "GridSearchCV train R2:   0.9958155553942302\n",
      "GridSearchCV train MSE:   0.001618606158800473\n",
      "GridSearchCV test R2:   0.8137978351784887\n",
      "GridSearchCV test MSE:   0.07315849519664831\n",
      "cross_val: mean= 0.0765047345616303 , std= 0.018431926539873918\n"
     ]
    }
   ],
   "source": [
    "# hyperparameter optimization for reg_alpha\n",
    "opt_models6 = dict()\n",
    "opt_models6[model_name], score6, grid_results6 = train_model(\n",
    "    lgb.LGBMRegressor(learning_rate=0.07, n_estimators=299, random_state=42), {'reg_alpha': np.linspace(0, 1, 10)})"
   ]
  },
  {
   "cell_type": "code",
   "execution_count": 13,
   "id": "e99f8124",
   "metadata": {},
   "outputs": [],
   "source": [
    "# get the 10-fold cross validation score for the model\n",
    "score = cross_validation(folds=10, lgb_reg=lgb.LGBMRegressor(learning_rate=0.07, n_estimators=299, random_state=42))"
   ]
  },
  {
   "cell_type": "code",
   "execution_count": 14,
   "id": "ed3f2f8d",
   "metadata": {},
   "outputs": [],
   "source": [
    "# add score information before optimization and\n",
    "# after hyperparameter optimization to the table\n",
    "score.loc[0:1, 'origin_score'] = [origin_score['R2'], origin_score['MSE']]\n",
    "score.loc[0:1, 'final_score'] = [score6['R2'], score6['MSE']]"
   ]
  },
  {
   "cell_type": "code",
   "execution_count": 15,
   "id": "f475d970",
   "metadata": {},
   "outputs": [],
   "source": [
    "# save file\n",
    "score.to_excel(\"LightGBM_score.xlsx\", index=False)"
   ]
  },
  {
   "cell_type": "code",
   "execution_count": 16,
   "id": "1e326d84",
   "metadata": {},
   "outputs": [
    {
     "data": {
      "text/plain": [
       "0.8366969495222264"
      ]
     },
     "execution_count": 16,
     "metadata": {},
     "output_type": "execute_result"
    }
   ],
   "source": [
    "# 10-fold cross validation mean of test set with respect to R2\n",
    "score['test_r2'].mean()"
   ]
  }
 ],
 "metadata": {
  "kernelspec": {
   "display_name": "Python 3 (ipykernel)",
   "language": "python",
   "name": "python3"
  },
  "language_info": {
   "codemirror_mode": {
    "name": "ipython",
    "version": 3
   },
   "file_extension": ".py",
   "mimetype": "text/x-python",
   "name": "python",
   "nbconvert_exporter": "python",
   "pygments_lexer": "ipython3",
   "version": "3.7.10"
  }
 },
 "nbformat": 4,
 "nbformat_minor": 5
}
