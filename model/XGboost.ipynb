{
 "cells": [
  {
   "cell_type": "code",
   "execution_count": 1,
   "id": "b10400d8",
   "metadata": {},
   "outputs": [],
   "source": [
    "import warnings\n",
    "import numpy as np\n",
    "import pandas as pd\n",
    "import matplotlib.pyplot as plt\n",
    "from xgboost import XGBRegressor as XGBR\n",
    "from sklearn.metrics import mean_squared_error, mean_absolute_error\n",
    "from sklearn.model_selection import train_test_split, GridSearchCV, cross_val_score, KFold\n",
    "\n",
    "warnings.filterwarnings(\"ignore\")\n",
    "plt.rcParams.update({'figure.max_open_warning': 0})"
   ]
  },
  {
   "cell_type": "code",
   "execution_count": 2,
   "id": "d9125c18",
   "metadata": {},
   "outputs": [],
   "source": [
    "# read data\n",
    "features = pd.read_excel(r\"/opt/jupyter_data/model/feature/final_features.xlsx\")\n",
    "target = pd.read_excel(r\"/opt/jupyter_data/model/feature/final_data.xlsx\")"
   ]
  },
  {
   "cell_type": "code",
   "execution_count": 3,
   "id": "1af63339",
   "metadata": {},
   "outputs": [],
   "source": [
    "# extract features and target data\n",
    "X = features.values\n",
    "y = target['logVDss'].values\n",
    "# split the data, 80% is the training set and 20% is the test set\n",
    "X_train, X_test, y_train, y_test = train_test_split(X, y, test_size=0.2, random_state=42)"
   ]
  },
  {
   "cell_type": "code",
   "execution_count": 4,
   "id": "f1bc5e17",
   "metadata": {},
   "outputs": [],
   "source": [
    "def train_model(model, param_grid):\n",
    "    \"\"\"This function trains the model and optimizes hyperparameters.\"\"\"\n",
    "    if len(param_grid) > 0:\n",
    "        # setup grid search parameters\n",
    "        gsearch = GridSearchCV(model,\n",
    "                               param_grid,\n",
    "                               cv=10,\n",
    "                               scoring='neg_mean_squared_error',\n",
    "                               verbose=1,\n",
    "                               return_train_score=True)\n",
    "        # search the grid\n",
    "        gsearch.fit(X_train, y_train)\n",
    "        # extract best model from the grid\n",
    "        model = gsearch.best_estimator_\n",
    "        best_idx = gsearch.best_index_\n",
    "        # get cv scores for best model\n",
    "        grid_results = pd.DataFrame(gsearch.cv_results_)\n",
    "        cv_mean = abs(grid_results.loc[best_idx, 'mean_test_score'])\n",
    "        cv_std = grid_results.loc[best_idx, 'std_test_score']\n",
    "        print(\"Best parameters found by grid search are:\", gsearch.best_params_)\n",
    "    else:\n",
    "        grid_results = []\n",
    "        # model training\n",
    "        model = model.fit(X_train, y_train)\n",
    "        cv_results = cross_val_score(model,\n",
    "                                     X_train,\n",
    "                                     y_train,\n",
    "                                     cv=10,\n",
    "                                     scoring='neg_mean_squared_error')\n",
    "        cv_mean = abs(np.mean(cv_results))\n",
    "        cv_std = np.std(cv_results)\n",
    "    # calculate the MSE and R2 of the train and test sets\n",
    "    MSE_train_score = mean_squared_error(y_train, model.predict(X_train))\n",
    "    MSE_test_score = mean_squared_error(y_test, model.predict(X_test))\n",
    "    R2_train_score = model.score(X_train, y_train)\n",
    "    R2_test_score = model.score(X_test, y_test)\n",
    "    test_score = pd.Series({'R2': R2_test_score, 'MSE': MSE_test_score})\n",
    "\n",
    "    # print stats on model performance\n",
    "    print('----------------')\n",
    "    print(model)\n",
    "    print('----------------')\n",
    "    print(\"GridSearchCV train R2:  \", R2_train_score)\n",
    "    print(\"GridSearchCV train MSE:  \", MSE_train_score)\n",
    "    print(\"GridSearchCV test R2:  \", R2_test_score)\n",
    "    print(\"GridSearchCV test MSE:  \", MSE_test_score)\n",
    "    print('cross_val: mean=', cv_mean, ', std=', cv_std)\n",
    "\n",
    "    return model, test_score, grid_results"
   ]
  },
  {
   "cell_type": "code",
   "execution_count": 5,
   "id": "94fceba9",
   "metadata": {},
   "outputs": [],
   "source": [
    "def fold_n(n, fold_error):\n",
    "    # count the number of fold_error less than n\n",
    "    number = sum[abs(fold_error[\"FE_score\"]) < n]\n",
    "    # calculate n-fold fold error\n",
    "    n_fold_error = number / len(fold_error)\n",
    "    \n",
    "    return n_fold_error"
   ]
  },
  {
   "cell_type": "code",
   "execution_count": 6,
   "id": "27dc50f4",
   "metadata": {},
   "outputs": [],
   "source": [
    "def cross_validation(folds, lgb_reg):\n",
    "    \"\"\"This function gets the MSE, R2, MAE, RMSE values of the model's ten-fold cross-validation.\"\"\"\n",
    "    FE_score = []\n",
    "    n_fold_error = []\n",
    "    # ten-fold cross-validation\n",
    "    kf = KFold(n_splits=folds, shuffle=True, random_state=42)\n",
    "    # record training and prediction MSE, R2, MAE, RMSE values\n",
    "    score_dict = {'train_mse': [], 'test_mse': [], 'train_r2': [], 'test_r2': [], 'train_mae': [], 'test_mae': [],\n",
    "                  'train_rmse': [], 'test_rmse': []}\n",
    "\n",
    "    for i, (train_index, test_index) in enumerate(kf.split(X)):\n",
    "        # split training and test set\n",
    "        X_train_KFold, X_test_KFold = X[train_index], X[test_index]\n",
    "        y_train_KFold, y_test_KFold = y[train_index], y[test_index]\n",
    "        # train model\n",
    "        lgb_reg.fit(X=X_train_KFold,\n",
    "                    y=y_train_KFold)\n",
    "\n",
    "        # make predictions\n",
    "        y_train_KFold_predict = lgb_reg.predict(X_train_KFold)\n",
    "        y_test_KFold_predict = lgb_reg.predict(X_test_KFold)\n",
    "\n",
    "        # calculate train and test set MSE, R2, MAE, RMSE\n",
    "        train_r2 = lgb_reg.score(X_train_KFold, y_train_KFold)\n",
    "        test_r2 = lgb_reg.score(X_test_KFold, y_test_KFold)\n",
    "        train_mse = mean_squared_error(y_train_KFold_predict, y_train_KFold)\n",
    "        test_mse = mean_squared_error(y_test_KFold_predict, y_test_KFold)\n",
    "        train_mae = mean_absolute_error(y_train_KFold_predict, y_train_KFold)\n",
    "        test_mae = mean_absolute_error(y_test_KFold_predict, y_test_KFold)\n",
    "        train_rmse = train_mse ** 0.5\n",
    "        test_rmse = test_mse ** 0.5\n",
    "\n",
    "        # calculate fold error\n",
    "        for y_pred, y_exp in zip(y_test_KFold_predict, y_test_KFold):\n",
    "            if y_pred > y_exp:\n",
    "                z = y_pred / y_exp\n",
    "            else:\n",
    "                z = y_exp / y_pred\n",
    "            FE_score.append(z)\n",
    "\n",
    "        # merge training and prediction MSE, R2, MAE, RMSE values\n",
    "        score_dict['train_mse'].append(train_mse)\n",
    "        score_dict['test_mse'].append(test_mse)\n",
    "        score_dict['train_r2'].append(train_r2)\n",
    "        score_dict['test_r2'].append(test_r2)\n",
    "        score_dict['train_mae'].append(train_mae)\n",
    "        score_dict['test_mae'].append(test_mae)\n",
    "        score_dict['train_rmse'].append(train_rmse)\n",
    "        score_dict['test_rmse'].append(test_rmse)\n",
    "    score_dict = pd.DataFrame(score_dict)\n",
    "\n",
    "    FE_score = pd.DataFrame(FE_score, columns=[\"FE_score\"])\n",
    "    FE_score[\"FE_score\"].astype(float)\n",
    "\n",
    "    # calculate 2-, 3- and 4-fold error\n",
    "    for m in (2, 3, 4):\n",
    "        n_fold_error.append(fold_n(m, FE_score))\n",
    "\n",
    "    score_dict.loc[0:2, 'fold_error'] = n_fold_error\n",
    "\n",
    "    return score_dict"
   ]
  },
  {
   "cell_type": "code",
   "execution_count": 7,
   "id": "b7027058",
   "metadata": {},
   "outputs": [
    {
     "name": "stdout",
     "output_type": "stream",
     "text": [
      "----------------\n",
      "XGBRegressor(base_score=0.5, booster='gbtree', colsample_bylevel=1,\n",
      "             colsample_bynode=1, colsample_bytree=1, gamma=0, gpu_id=-1,\n",
      "             importance_type='gain', interaction_constraints='',\n",
      "             learning_rate=0.300000012, max_delta_step=0, max_depth=6,\n",
      "             min_child_weight=1, missing=nan, monotone_constraints='()',\n",
      "             n_estimators=100, n_jobs=40, num_parallel_tree=1, random_state=42,\n",
      "             reg_alpha=0, reg_lambda=1, scale_pos_weight=1, subsample=1,\n",
      "             tree_method='exact', validate_parameters=1, verbosity=None)\n",
      "----------------\n",
      "GridSearchCV train R2:   0.9965316620296611\n",
      "GridSearchCV train MSE:   0.0013416053332027014\n",
      "GridSearchCV test R2:   0.8088156345054106\n",
      "GridSearchCV test MSE:   0.07511599286784623\n",
      "cross_val: mean= 0.0821398995189653 , std= 0.01818841235362537\n"
     ]
    }
   ],
   "source": [
    "# places to store optimal models and scores\n",
    "opt_models = dict()\n",
    "model_name = 'XGboost'\n",
    "opt_models[model_name], origin_score, origin_results = train_model(XGBR(random_state=42), [])"
   ]
  },
  {
   "cell_type": "code",
   "execution_count": 8,
   "id": "1b515864",
   "metadata": {},
   "outputs": [
    {
     "name": "stdout",
     "output_type": "stream",
     "text": [
      "Fitting 10 folds for each of 180 candidates, totalling 1800 fits\n",
      "Best parameters found by grid search are: {'learning_rate': 0.1, 'n_estimators': 290}\n",
      "----------------\n",
      "XGBRegressor(base_score=0.5, booster='gbtree', colsample_bylevel=1,\n",
      "             colsample_bynode=1, colsample_bytree=1, gamma=0, gpu_id=-1,\n",
      "             importance_type='gain', interaction_constraints='',\n",
      "             learning_rate=0.1, max_delta_step=0, max_depth=6,\n",
      "             min_child_weight=1, missing=nan, monotone_constraints='()',\n",
      "             n_estimators=290, n_jobs=40, num_parallel_tree=1, random_state=42,\n",
      "             reg_alpha=0, reg_lambda=1, scale_pos_weight=1, subsample=1,\n",
      "             tree_method='exact', validate_parameters=1, verbosity=None)\n",
      "----------------\n",
      "GridSearchCV train R2:   0.9965211854833468\n",
      "GridSearchCV train MSE:   0.0013456578190126317\n",
      "GridSearchCV test R2:   0.811799228905939\n",
      "GridSearchCV test MSE:   0.07394374400151839\n",
      "cross_val: mean= 0.07556773931180298 , std= 0.019749704358747896\n"
     ]
    }
   ],
   "source": [
    "# n_estimators and learning_rate together for hyperparameter optimization\n",
    "opt_models1 = dict()\n",
    "opt_models1[model_name], score1, grid_results1 = train_model(XGBR(random_state=42),\n",
    "                                                             {'n_estimators': np.arange(100, 300, 10),\n",
    "                                                              'learning_rate': np.arange(0.1, 1, 0.1)}\n",
    "                                                             )"
   ]
  },
  {
   "cell_type": "code",
   "execution_count": 9,
   "id": "3bdc0009",
   "metadata": {},
   "outputs": [
    {
     "name": "stdout",
     "output_type": "stream",
     "text": [
      "Fitting 10 folds for each of 200 candidates, totalling 2000 fits\n",
      "Best parameters found by grid search are: {'learning_rate': 0.1, 'n_estimators': 295}\n",
      "----------------\n",
      "XGBRegressor(base_score=0.5, booster='gbtree', colsample_bylevel=1,\n",
      "             colsample_bynode=1, colsample_bytree=1, gamma=0, gpu_id=-1,\n",
      "             importance_type='gain', interaction_constraints='',\n",
      "             learning_rate=0.1, max_delta_step=0, max_depth=6,\n",
      "             min_child_weight=1, missing=nan, monotone_constraints='()',\n",
      "             n_estimators=295, n_jobs=40, num_parallel_tree=1, random_state=42,\n",
      "             reg_alpha=0, reg_lambda=1, scale_pos_weight=1, subsample=1,\n",
      "             tree_method='exact', validate_parameters=1, verbosity=None)\n",
      "----------------\n",
      "GridSearchCV train R2:   0.9965430364361609\n",
      "GridSearchCV train MSE:   0.0013372055415581988\n",
      "GridSearchCV test R2:   0.8118439845120871\n",
      "GridSearchCV test MSE:   0.07392615960447048\n",
      "cross_val: mean= 0.07555193154599735 , std= 0.019744866588559343\n"
     ]
    }
   ],
   "source": [
    "# n_estimators and learning_rate together for hyperparameter optimization\n",
    "opt_models2 = dict()\n",
    "opt_models2[model_name], score2, grid_results2 = train_model(XGBR(random_state=42),\n",
    "                                                             {'n_estimators': np.arange(280, 300, 1),\n",
    "                                                              'learning_rate': np.linspace(0.01, 0.1, 10)}\n",
    "                                                             )"
   ]
  },
  {
   "cell_type": "code",
   "execution_count": 11,
   "id": "d69cd05c",
   "metadata": {},
   "outputs": [
    {
     "name": "stdout",
     "output_type": "stream",
     "text": [
      "Fitting 10 folds for each of 9 candidates, totalling 90 fits\n",
      "Best parameters found by grid search are: {'max_depth': 6}\n",
      "----------------\n",
      "XGBRegressor(base_score=0.5, booster='gbtree', colsample_bylevel=1,\n",
      "             colsample_bynode=1, colsample_bytree=1, gamma=0, gpu_id=-1,\n",
      "             importance_type='gain', interaction_constraints='',\n",
      "             learning_rate=0.1, max_delta_step=0, max_depth=6,\n",
      "             min_child_weight=1, missing=nan, monotone_constraints='()',\n",
      "             n_estimators=295, n_jobs=40, num_parallel_tree=1, random_state=42,\n",
      "             reg_alpha=0, reg_lambda=1, scale_pos_weight=1, subsample=1,\n",
      "             tree_method='exact', validate_parameters=1, verbosity=None)\n",
      "----------------\n",
      "GridSearchCV train R2:   0.9965430364361609\n",
      "GridSearchCV train MSE:   0.0013372055415581988\n",
      "GridSearchCV test R2:   0.8118439845120871\n",
      "GridSearchCV test MSE:   0.07392615960447048\n",
      "cross_val: mean= 0.07555193154599735 , std= 0.019744866588559343\n"
     ]
    }
   ],
   "source": [
    "# hyperparameter optimization for max_depth\n",
    "opt_models3 = dict()\n",
    "opt_models3[model_name], score3, grid_results3 = train_model(XGBR(random_state=42, n_estimators=295, learning_rate=0.1),\n",
    "                                                             {'max_depth': np.arange(1, 10, 1)}\n",
    "                                                             )"
   ]
  },
  {
   "cell_type": "code",
   "execution_count": 13,
   "id": "2a286b76",
   "metadata": {},
   "outputs": [
    {
     "name": "stdout",
     "output_type": "stream",
     "text": [
      "Fitting 10 folds for each of 20 candidates, totalling 200 fits\n",
      "Best parameters found by grid search are: {'gamma': 0.0}\n",
      "----------------\n",
      "XGBRegressor(base_score=0.5, booster='gbtree', colsample_bylevel=1,\n",
      "             colsample_bynode=1, colsample_bytree=1, gamma=0.0, gpu_id=-1,\n",
      "             importance_type='gain', interaction_constraints='',\n",
      "             learning_rate=0.1, max_delta_step=0, max_depth=6,\n",
      "             min_child_weight=1, missing=nan, monotone_constraints='()',\n",
      "             n_estimators=295, n_jobs=40, num_parallel_tree=1, random_state=42,\n",
      "             reg_alpha=0, reg_lambda=1, scale_pos_weight=1, subsample=1,\n",
      "             tree_method='exact', validate_parameters=1, verbosity=None)\n",
      "----------------\n",
      "GridSearchCV train R2:   0.9965430364361609\n",
      "GridSearchCV train MSE:   0.0013372055415581988\n",
      "GridSearchCV test R2:   0.8118439845120871\n",
      "GridSearchCV test MSE:   0.07392615960447048\n",
      "cross_val: mean= 0.07555193154599735 , std= 0.019744866588559343\n"
     ]
    }
   ],
   "source": [
    "# hyperparameter optimization for gamma\n",
    "opt_models4 = dict()\n",
    "opt_models4[model_name], score4, grid_results4 = train_model(XGBR(random_state=42, n_estimators=295, learning_rate=0.1),\n",
    "                                                             {'gamma': np.linspace(0, 1, 20)}\n",
    "                                                             )"
   ]
  },
  {
   "cell_type": "code",
   "execution_count": 14,
   "id": "a4abaa9d",
   "metadata": {},
   "outputs": [
    {
     "name": "stdout",
     "output_type": "stream",
     "text": [
      "Fitting 10 folds for each of 9 candidates, totalling 90 fits\n",
      "Best parameters found by grid search are: {'subsample': 1}\n",
      "----------------\n",
      "XGBRegressor(base_score=0.5, booster='gbtree', colsample_bylevel=1,\n",
      "             colsample_bynode=1, colsample_bytree=1, gamma=0, gpu_id=-1,\n",
      "             importance_type='gain', interaction_constraints='',\n",
      "             learning_rate=0.1, max_delta_step=0, max_depth=6,\n",
      "             min_child_weight=1, missing=nan, monotone_constraints='()',\n",
      "             n_estimators=295, n_jobs=40, num_parallel_tree=1, random_state=42,\n",
      "             reg_alpha=0, reg_lambda=1, scale_pos_weight=1, subsample=1,\n",
      "             tree_method='exact', validate_parameters=1, verbosity=None)\n",
      "----------------\n",
      "GridSearchCV train R2:   0.9965430364361609\n",
      "GridSearchCV train MSE:   0.0013372055415581988\n",
      "GridSearchCV test R2:   0.8118439845120871\n",
      "GridSearchCV test MSE:   0.07392615960447048\n",
      "cross_val: mean= 0.07555193154599735 , std= 0.019744866588559343\n"
     ]
    }
   ],
   "source": [
    "# hyperparameter optimization for subsample\n",
    "opt_models5 = dict()\n",
    "opt_models5[model_name], score5, grid_results5 = train_model(XGBR(random_state=42, n_estimators=295, learning_rate=0.1),\n",
    "                                                             {'subsample': np.arange(1, 10, 1)}\n",
    "                                                             )"
   ]
  },
  {
   "cell_type": "code",
   "execution_count": 15,
   "id": "7f5dff56",
   "metadata": {},
   "outputs": [],
   "source": [
    "# get the 10-fold cross validation score for the model\n",
    "score = cross_validation(folds=10, lgb_reg=XGBR(random_state=42, n_estimators=295, learning_rate=0.1))"
   ]
  },
  {
   "cell_type": "code",
   "execution_count": 16,
   "id": "7f32ecb0",
   "metadata": {},
   "outputs": [],
   "source": [
    "# add score information before optimization and\n",
    "# after hyperparameter optimization to the table\n",
    "score.loc[0:1, 'origin_score'] = [origin_score['R2'], origin_score['MSE']]\n",
    "score.loc[0:1, 'final_score'] = [score5['R2'], score5['MSE']]"
   ]
  },
  {
   "cell_type": "code",
   "execution_count": 17,
   "id": "9f066c5d",
   "metadata": {},
   "outputs": [],
   "source": [
    "# save file\n",
    "score.to_excel(\"XGboost_score.xlsx\", index=False)"
   ]
  },
  {
   "cell_type": "code",
   "execution_count": 18,
   "id": "f3e95905",
   "metadata": {},
   "outputs": [
    {
     "data": {
      "text/plain": [
       "0.8330800721534777"
      ]
     },
     "execution_count": 18,
     "metadata": {},
     "output_type": "execute_result"
    }
   ],
   "source": [
    "# 10-fold cross validation mean of test set with respect to R2\n",
    "score['test_r2'].mean()"
   ]
  }
 ],
 "metadata": {
  "kernelspec": {
   "display_name": "Python 3 (ipykernel)",
   "language": "python",
   "name": "python3"
  },
  "language_info": {
   "codemirror_mode": {
    "name": "ipython",
    "version": 3
   },
   "file_extension": ".py",
   "mimetype": "text/x-python",
   "name": "python",
   "nbconvert_exporter": "python",
   "pygments_lexer": "ipython3",
   "version": "3.7.10"
  }
 },
 "nbformat": 4,
 "nbformat_minor": 5
}
