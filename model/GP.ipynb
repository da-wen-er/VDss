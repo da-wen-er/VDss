{
 "cells": [
  {
   "cell_type": "code",
   "execution_count": 1,
   "id": "b8588b09",
   "metadata": {},
   "outputs": [],
   "source": [
    "import warnings\n",
    "import numpy as np\n",
    "import pandas as pd\n",
    "import matplotlib.pyplot as plt\n",
    "from sklearn.metrics import mean_absolute_error, mean_squared_error\n",
    "from sklearn.gaussian_process import GaussianProcessRegressor as GPR\n",
    "from sklearn.model_selection import GridSearchCV, KFold, cross_val_score, train_test_split\n",
    "from sklearn.gaussian_process.kernels import Matern, RBF, ConstantKernel as C, WhiteKernel, DotProduct\n",
    "\n",
    "plt.rcParams.update({'figure.max_open_warning': 0})\n",
    "warnings.filterwarnings(\"ignore\")"
   ]
  },
  {
   "cell_type": "code",
   "execution_count": 2,
   "id": "70916c20",
   "metadata": {},
   "outputs": [],
   "source": [
    "# read data\n",
    "features = pd.read_excel(r\"/opt/jupyter_data/model/feature/final_features.xlsx\")\n",
    "target = pd.read_excel(r\"/opt/jupyter_data/model/feature/final_data.xlsx\")"
   ]
  },
  {
   "cell_type": "code",
   "execution_count": 3,
   "id": "105e4601",
   "metadata": {},
   "outputs": [],
   "source": [
    "# extract features and target data\n",
    "X = features.values\n",
    "y = target['logVDss'].values\n",
    "# split the data, 80% is the training set and 20% is the test set\n",
    "X_train, X_test, y_train, y_test = train_test_split(X, y, test_size=0.2, random_state=42)"
   ]
  },
  {
   "cell_type": "code",
   "execution_count": 4,
   "id": "6b726c9c",
   "metadata": {},
   "outputs": [],
   "source": [
    "def train_model(model, param_grid):\n",
    "    \"\"\"This function trains the model and optimizes hyperparameters.\"\"\"\n",
    "    if len(param_grid) > 0:\n",
    "        # setup grid search parameters\n",
    "        gsearch = GridSearchCV(model,\n",
    "                               param_grid,\n",
    "                               cv=10,\n",
    "                               scoring='neg_mean_squared_error',\n",
    "                               verbose=1,\n",
    "                               return_train_score=True)\n",
    "        # search the grid\n",
    "        gsearch.fit(X_train, y_train)\n",
    "        # extract best model from the grid\n",
    "        model = gsearch.best_estimator_\n",
    "        best_idx = gsearch.best_index_\n",
    "        # get cv scores for best model\n",
    "        grid_results = pd.DataFrame(gsearch.cv_results_)\n",
    "        cv_mean = abs(grid_results.loc[best_idx, 'mean_test_score'])\n",
    "        cv_std = grid_results.loc[best_idx, 'std_test_score']\n",
    "        print(\"Best parameters found by grid search are:\", gsearch.best_params_)\n",
    "    else:\n",
    "        grid_results = []\n",
    "        # model training\n",
    "        model = model.fit(X_train, y_train)\n",
    "        cv_results = cross_val_score(model,\n",
    "                                     X_train,\n",
    "                                     y_train,\n",
    "                                     cv=10,\n",
    "                                     scoring='neg_mean_squared_error')\n",
    "        cv_mean = abs(np.mean(cv_results))\n",
    "        cv_std = np.std(cv_results)\n",
    "    # calculate the MSE and R2 of the train and test sets\n",
    "    MSE_train_score = mean_squared_error(y_train, model.predict(X_train))\n",
    "    MSE_test_score = mean_squared_error(y_test, model.predict(X_test))\n",
    "    R2_train_score = model.score(X_train, y_train)\n",
    "    R2_test_score = model.score(X_test, y_test)\n",
    "    test_score = pd.Series({'R2': R2_test_score, 'MSE': MSE_test_score})\n",
    "\n",
    "    # print stats on model performance\n",
    "    print('----------------')\n",
    "    print(model)\n",
    "    print('----------------')\n",
    "    print(\"GridSearchCV train R2:  \", R2_train_score)\n",
    "    print(\"GridSearchCV train MSE:  \", MSE_train_score)\n",
    "    print(\"GridSearchCV test R2:  \", R2_test_score)\n",
    "    print(\"GridSearchCV test MSE:  \", MSE_test_score)\n",
    "    print('cross_val: mean=', cv_mean, ', std=', cv_std)\n",
    "\n",
    "    return model, test_score, grid_results"
   ]
  },
  {
   "cell_type": "code",
   "execution_count": 5,
   "id": "23fb62fc",
   "metadata": {},
   "outputs": [],
   "source": [
    "def fold_n(n, fold_error):\n",
    "    # count the number of fold_error less than n\n",
    "    number = sum[abs(fold_error[\"FE_score\"]) < n]\n",
    "    # calculate n-fold fold error\n",
    "    n_fold_error = number / len(fold_error)\n",
    "\n",
    "    return n_fold_error"
   ]
  },
  {
   "cell_type": "code",
   "execution_count": 6,
   "id": "43638ce1",
   "metadata": {},
   "outputs": [],
   "source": [
    "def cross_validation(folds, lgb_reg):\n",
    "    \"\"\"This function gets the MSE, R2, MAE, RMSE values of the model's ten-fold cross-validation.\"\"\"\n",
    "    FE_score = []\n",
    "    n_fold_error = []\n",
    "    # ten-fold cross-validation\n",
    "    kf = KFold(n_splits=folds, shuffle=True, random_state=42)\n",
    "    # record training and prediction MSE, R2, MAE, RMSE values\n",
    "    score_dict = {'train_mse': [], 'test_mse': [], 'train_r2': [], 'test_r2': [], 'train_mae': [], 'test_mae': [],\n",
    "                  'train_rmse': [], 'test_rmse': []}\n",
    "\n",
    "    for i, (train_index, test_index) in enumerate(kf.split(X)):\n",
    "        # split training and test set\n",
    "        X_train_KFold, X_test_KFold = X[train_index], X[test_index]\n",
    "        y_train_KFold, y_test_KFold = y[train_index], y[test_index]\n",
    "        # train model\n",
    "        lgb_reg.fit(X=X_train_KFold,\n",
    "                    y=y_train_KFold)\n",
    "\n",
    "        # make predictions\n",
    "        y_train_KFold_predict = lgb_reg.predict(X_train_KFold)\n",
    "        y_test_KFold_predict = lgb_reg.predict(X_test_KFold)\n",
    "\n",
    "        # calculate train and test set MSE, R2, MAE, RMSE\n",
    "        train_r2 = lgb_reg.score(X_train_KFold, y_train_KFold)\n",
    "        test_r2 = lgb_reg.score(X_test_KFold, y_test_KFold)\n",
    "        train_mse = mean_squared_error(y_train_KFold_predict, y_train_KFold)\n",
    "        test_mse = mean_squared_error(y_test_KFold_predict, y_test_KFold)\n",
    "        train_mae = mean_absolute_error(y_train_KFold_predict, y_train_KFold)\n",
    "        test_mae = mean_absolute_error(y_test_KFold_predict, y_test_KFold)\n",
    "        train_rmse = train_mse ** 0.5\n",
    "        test_rmse = test_mse ** 0.5\n",
    "\n",
    "        # calculate fold error\n",
    "        for y_pred, y_exp in zip(y_test_KFold_predict, y_test_KFold):\n",
    "            if y_pred > y_exp:\n",
    "                z = y_pred / y_exp\n",
    "            else:\n",
    "                z = y_exp / y_pred\n",
    "            FE_score.append(z)\n",
    "\n",
    "        # merge training and prediction MSE, R2, MAE, RMSE values\n",
    "        score_dict['train_mse'].append(train_mse)\n",
    "        score_dict['test_mse'].append(test_mse)\n",
    "        score_dict['train_r2'].append(train_r2)\n",
    "        score_dict['test_r2'].append(test_r2)\n",
    "        score_dict['train_mae'].append(train_mae)\n",
    "        score_dict['test_mae'].append(test_mae)\n",
    "        score_dict['train_rmse'].append(train_rmse)\n",
    "        score_dict['test_rmse'].append(test_rmse)\n",
    "    score_dict = pd.DataFrame(score_dict)\n",
    "\n",
    "    FE_score = pd.DataFrame(FE_score, columns=[\"FE_score\"])\n",
    "    FE_score[\"FE_score\"].astype(float)\n",
    "\n",
    "    # calculate 2-, 3- and 4-fold error\n",
    "    for m in (2, 3, 4):\n",
    "        n_fold_error.append(fold_n(m, FE_score))\n",
    "\n",
    "    score_dict.loc[0:2, 'fold_error'] = n_fold_error\n",
    "\n",
    "    return score_dict"
   ]
  },
  {
   "cell_type": "code",
   "execution_count": 7,
   "id": "22f54fb3",
   "metadata": {},
   "outputs": [
    {
     "name": "stdout",
     "output_type": "stream",
     "text": [
      "----------------\n",
      "GaussianProcessRegressor(random_state=42)\n",
      "----------------\n",
      "GridSearchCV train R2:   0.9967300917749176\n",
      "GridSearchCV train MSE:   0.0012648497209242153\n",
      "GridSearchCV test R2:   0.5965811225741517\n",
      "GridSearchCV test MSE:   0.15850255035803199\n",
      "cross_val: mean= 0.18060543737656543 , std= 0.03292183336093716\n"
     ]
    }
   ],
   "source": [
    "# places to store optimal models and scores\n",
    "opt_models = dict()\n",
    "model_name = \"GPR\"\n",
    "opt_models[model_name], origin_score, origin_results = train_model(GPR(random_state=42), [])"
   ]
  },
  {
   "cell_type": "code",
   "execution_count": 8,
   "id": "c3f0da74",
   "metadata": {},
   "outputs": [
    {
     "name": "stdout",
     "output_type": "stream",
     "text": [
      "Fitting 10 folds for each of 5 candidates, totalling 50 fits\n",
      "Best parameters found by grid search are: {'kernel': 1**2 * RBF(length_scale=1) + WhiteKernel(noise_level=1)}\n",
      "----------------\n",
      "GaussianProcessRegressor(kernel=1**2 * RBF(length_scale=1) + WhiteKernel(noise_level=1),\n",
      "                         random_state=42)\n",
      "----------------\n",
      "GridSearchCV train R2:   0.9948264784169097\n",
      "GridSearchCV train MSE:   0.002001196021457805\n",
      "GridSearchCV test R2:   0.7716157714569656\n",
      "GridSearchCV test MSE:   0.08973175206030455\n",
      "cross_val: mean= 0.09332549902140255 , std= 0.018961403304825764\n"
     ]
    }
   ],
   "source": [
    "# hyperparameter optimization for kernel\n",
    "opt_models1 = dict()\n",
    "\n",
    "kernel_range = [1.0 * RBF(length_scale=1) + WhiteKernel(noise_level=1),\n",
    "                Matern(length_scale=0.484, nu=1.5) + WhiteKernel(noise_level=0.5),\n",
    "                Matern(length_scale=0.484, nu=2.5) + WhiteKernel(noise_level=0.5),\n",
    "                C(1.0, (1e-3, 1e3)) * RBF(10, (0.5, 2)),\n",
    "                DotProduct() + WhiteKernel(noise_level=0.5)\n",
    "                ]\n",
    "\n",
    "opt_models1[model_name], score1, grid_results1 = train_model(GPR(random_state=42),\n",
    "                                                             {'kernel': kernel_range}\n",
    "                                                             )"
   ]
  },
  {
   "cell_type": "code",
   "execution_count": 9,
   "id": "1c567255",
   "metadata": {},
   "outputs": [
    {
     "name": "stdout",
     "output_type": "stream",
     "text": [
      "Fitting 10 folds for each of 4 candidates, totalling 40 fits\n",
      "Best parameters found by grid search are: {'kernel': Matern(length_scale=0.484, nu=1.5) + WhiteKernel(noise_level=1e-05)}\n",
      "----------------\n",
      "GaussianProcessRegressor(kernel=Matern(length_scale=0.484, nu=1.5) + WhiteKernel(noise_level=1e-05),\n",
      "                         random_state=42)\n",
      "----------------\n",
      "GridSearchCV train R2:   0.9950393417308228\n",
      "GridSearchCV train MSE:   0.0019188572875653205\n",
      "GridSearchCV test R2:   0.7845155735116527\n",
      "GridSearchCV test MSE:   0.0846634430663668\n",
      "cross_val: mean= 0.08735012574121062 , std= 0.020910345969207718\n"
     ]
    }
   ],
   "source": [
    "# hyperparameter optimization for kernel\n",
    "opt_models2 = dict()\n",
    "\n",
    "kernel_range = [Matern(length_scale=0.484, nu=1.5) + WhiteKernel(noise_level=1e-5),\n",
    "                Matern(length_scale=0.484, nu=1.5) + WhiteKernel(noise_level=0.1),\n",
    "                Matern(length_scale=0.484, nu=1.5) + WhiteKernel(noise_level=0.5),\n",
    "                Matern(length_scale=0.484, nu=1.5) + WhiteKernel(noise_level=1),\n",
    "                ]\n",
    "\n",
    "opt_models2[model_name], score2, grid_results2 = train_model(GPR(random_state=42),\n",
    "                                                             {'kernel': kernel_range}\n",
    "                                                             )"
   ]
  },
  {
   "cell_type": "code",
   "execution_count": 10,
   "id": "c21c6d68",
   "metadata": {},
   "outputs": [
    {
     "name": "stdout",
     "output_type": "stream",
     "text": [
      "Fitting 10 folds for each of 4 candidates, totalling 40 fits\n",
      "Best parameters found by grid search are: {'kernel': Matern(length_scale=1, nu=1.5) + WhiteKernel(noise_level=1)}\n",
      "----------------\n",
      "GaussianProcessRegressor(kernel=Matern(length_scale=1, nu=1.5) + WhiteKernel(noise_level=1),\n",
      "                         random_state=42)\n",
      "----------------\n",
      "GridSearchCV train R2:   0.9950393412418901\n",
      "GridSearchCV train MSE:   0.0019188574766918405\n",
      "GridSearchCV test R2:   0.7845155718470818\n",
      "GridSearchCV test MSE:   0.08466344372037371\n",
      "cross_val: mean= 0.0873501252332824 , std= 0.02091034648984532\n"
     ]
    }
   ],
   "source": [
    "# hyperparameter optimization for kernel\n",
    "opt_models3 = dict()\n",
    "\n",
    "kernel_range = [Matern(length_scale=0.01, nu=1.5) + WhiteKernel(noise_level=1),\n",
    "                Matern(length_scale=0.1, nu=1.5) + WhiteKernel(noise_level=1),\n",
    "                Matern(length_scale=0.5, nu=1.5) + WhiteKernel(noise_level=1),\n",
    "                Matern(length_scale=1, nu=1.5) + WhiteKernel(noise_level=1),\n",
    "                ]\n",
    "\n",
    "opt_models3[model_name], score3, grid_results3 = train_model(GPR(random_state=42),\n",
    "                                                             {'kernel': kernel_range}\n",
    "                                                             )"
   ]
  },
  {
   "cell_type": "code",
   "execution_count": 11,
   "id": "e00af9ce",
   "metadata": {},
   "outputs": [
    {
     "name": "stdout",
     "output_type": "stream",
     "text": [
      "Fitting 10 folds for each of 50 candidates, totalling 500 fits\n",
      "Best parameters found by grid search are: {'alpha': 4.0816326530612245e-05}\n",
      "----------------\n",
      "GaussianProcessRegressor(alpha=4.0816326530612245e-05,\n",
      "                         kernel=Matern(length_scale=0.484, nu=1.5) + WhiteKernel(noise_level=1e-05),\n",
      "                         random_state=42)\n",
      "----------------\n",
      "GridSearchCV train R2:   0.995039342524733\n",
      "GridSearchCV train MSE:   0.0019188569804688901\n",
      "GridSearchCV test R2:   0.7845155725663042\n",
      "GridSearchCV test MSE:   0.08466344343779254\n",
      "cross_val: mean= 0.08735012394679206 , std= 0.020910346799995688\n"
     ]
    }
   ],
   "source": [
    "# hyperparameter optimization for alpha\n",
    "opt_models4 = dict()\n",
    "opt_models4[model_name], score4, grid_results4 = train_model(\n",
    "    GPR(kernel=Matern(length_scale=0.484, nu=1.5) + WhiteKernel(noise_level=1e-5), random_state=42),\n",
    "    {'alpha': np.linspace(0, 0.001, 50)})"
   ]
  },
  {
   "cell_type": "code",
   "execution_count": 12,
   "id": "eec9e6d5",
   "metadata": {},
   "outputs": [],
   "source": [
    "# get the 10-fold cross validation score for the model\n",
    "score = cross_validation(folds=10,\n",
    "                         lgb_reg=GPR(kernel=Matern(length_scale=0.484, nu=1.5) + WhiteKernel(noise_level=1e-5),\n",
    "                                     random_state=42))\n"
   ]
  },
  {
   "cell_type": "code",
   "execution_count": 13,
   "id": "ac01d965",
   "metadata": {},
   "outputs": [],
   "source": [
    "# add score information before optimization and\n",
    "# after hyperparameter optimization to the table\n",
    "score.loc[0:1, 'origin_score'] = [origin_score['R2'], origin_score['MSE']]\n",
    "score.loc[0:1, 'final_score'] = [score2['R2'], score2['MSE']]"
   ]
  },
  {
   "cell_type": "code",
   "execution_count": 14,
   "id": "b83a32b8",
   "metadata": {},
   "outputs": [],
   "source": [
    "# save file\n",
    "score.to_excel(\"GP_score.xlsx\", index=False)"
   ]
  },
  {
   "cell_type": "code",
   "execution_count": 15,
   "id": "c4aaf78f",
   "metadata": {},
   "outputs": [
    {
     "data": {
      "text/plain": [
       "0.8159164617805441"
      ]
     },
     "execution_count": 15,
     "metadata": {},
     "output_type": "execute_result"
    }
   ],
   "source": [
    "# 10-fold cross validation mean of test set with respect to R2\n",
    "score['test_r2'].mean()"
   ]
  }
 ],
 "metadata": {
  "kernelspec": {
   "display_name": "Python 3 (ipykernel)",
   "language": "python",
   "name": "python3"
  },
  "language_info": {
   "codemirror_mode": {
    "name": "ipython",
    "version": 3
   },
   "file_extension": ".py",
   "mimetype": "text/x-python",
   "name": "python",
   "nbconvert_exporter": "python",
   "pygments_lexer": "ipython3",
   "version": "3.7.10"
  }
 },
 "nbformat": 4,
 "nbformat_minor": 5
}
