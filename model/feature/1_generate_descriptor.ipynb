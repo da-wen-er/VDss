{
 "cells": [
  {
   "cell_type": "code",
   "execution_count": 1,
   "metadata": {},
   "outputs": [],
   "source": [
    "import numpy as np\n",
    "import pandas as pd\n",
    "from rdkit import Chem, RDLogger\n",
    "from rdkit.Chem import AllChem, Descriptors\n",
    "from mordred import Calculator, descriptors"
   ]
  },
  {
   "cell_type": "code",
   "execution_count": 2,
   "metadata": {},
   "outputs": [],
   "source": [
    "alldata = pd.read_excel(r\"/opt/jupyter_data/data_clean/cleaning/6_alldata.xlsx\")"
   ]
  },
  {
   "cell_type": "code",
   "execution_count": 3,
   "metadata": {},
   "outputs": [],
   "source": [
    "def convert_3d(df, sdf_fname=\"LogS_3d.sdf\"):\n",
    "    \"\"\"Convert the smiles to sdf in 3D coordinates.\"\"\"\n",
    "    # rest the index\n",
    "    df.reset_index(drop=True, inplace=True)\n",
    "    writer = Chem.SDWriter(sdf_fname)\n",
    "    failed_idx = []\n",
    "\n",
    "    for row_idx, row in df.iterrows():\n",
    "        mol = Chem.MolFromSmiles(row[\"SMILES\"])\n",
    "        logP = Descriptors.MolLogP(mol)\n",
    "        if mol is not None:\n",
    "            if str(row[\"CAS_number\"]) != \"nan\":\n",
    "                mol_name = str(row[\"CAS_number\"])\n",
    "            else:\n",
    "                mol_name = str(row[\"SMILES\"])\n",
    "            # add property\n",
    "            mol.SetProp(\"_Name\", mol_name)\n",
    "            # molecule name\n",
    "            mol.SetProp(\"name\", mol_name)\n",
    "            mol.SetProp(\"CAS_number\", str(row[\"CAS_number\"]))\n",
    "            mol.SetProp(\"VDss(L/kg)\", str(row[\"VDss(L/kg)\"]))\n",
    "            mol.SetProp(\"SD\", str(row[\"SD\"]))\n",
    "            mol.SetProp(\"fu(h)\", str(row[\"fu_h\"]))\n",
    "            mol.SetProp(\"reference_number\", str(row[\"reference_number\"]))\n",
    "            mol.SetProp(\"t 1/2\", str(row[\"t_1/2\"]))\n",
    "            mol.SetProp(\"SMILES\", str(row[\"SMILES\"]))\n",
    "            mol.SetProp(\"InChI\", str(row[\"InChI\"]))\n",
    "            mol.SetProp(\"MW\", str(row[\"MW\"]))\n",
    "            mol.SetProp(\"logP\", str(row[\"logP\"]))\n",
    "            mol.SetProp(\"logVDss\", str(row[\"logVDss\"]))\n",
    "            # noinspection PyBroadException\n",
    "            try:\n",
    "                mol = Chem.AddHs(mol)\n",
    "                AllChem.EmbedMolecule(mol, randomSeed=9)\n",
    "                # the following code will raise some errors\n",
    "                maxIters = 400\n",
    "                mini_tag = AllChem.MMFFOptimizeMolecule(mol, \"MMFF94s\", maxIters=maxIters)\n",
    "                # 0 optimize converged\n",
    "                # -1 can not set up force field\n",
    "                # 1 more iterations required\n",
    "                if mini_tag == 1:\n",
    "                    AllChem.MMFFOptimizeMolecule(mol,\n",
    "                                                 \"MMFF94s\",\n",
    "                                                 maxIters=maxIters*2)\n",
    "                elif mini_tag == -1:\n",
    "                    AllChem.UFFOptimizeMolecule(mol, maxIters=400)\n",
    "                writer.write(mol)\n",
    "            except:\n",
    "                print(f\"cannot set up force field for {row_idx}\")\n",
    "                failed_idx.append(row_idx)\n",
    "        else:\n",
    "            print(f\"cannot read molecule {row_idx}\")\n",
    "            failed_idx.append(row_idx)\n",
    "    \n",
    "    writer.close()\n",
    "\n",
    "    # drop failed molecules\n",
    "    df_valid = df.drop(failed_idx)\n",
    "\n",
    "    return df_valid"
   ]
  },
  {
   "cell_type": "code",
   "execution_count": 4,
   "metadata": {},
   "outputs": [],
   "source": [
    "def drop_error_data(df):\n",
    "    \"\"\"This function deletes data that could not be converted into 3D.\"\"\"\n",
    "    df_drop_error = pd.DataFrame(columns=df.columns)\n",
    "    # \n",
    "    inlist = [r.strip(\"\\\\n\") for r in open('LogS_3d.sdf').readlines()]\n",
    "    j = 0\n",
    "    for row_idx, smi in zip(range(df.shape[0]), df['smiles']):\n",
    "        for i in range(len(inlist)):\n",
    "            # \n",
    "            if smi == inlist[i].strip():\n",
    "                df_drop_error.loc[j] = df.loc[row_idx]\n",
    "                j += 1\n",
    "                break\n",
    "            else:\n",
    "                continue\n",
    "\n",
    "    return df_drop_error"
   ]
  },
  {
   "cell_type": "code",
   "execution_count": 5,
   "metadata": {},
   "outputs": [],
   "source": [
    "def calculator_descriptors(mol):\n",
    "    \"\"\"This function computes a descriptor for the data.\"\"\"\n",
    "    calc = Calculator(descriptors, ignore_3D=False)\n",
    "    calculator_descriptor = calc.pandas(Chem.SDMolSupplier(mol))\n",
    "\n",
    "    return calculator_descriptor"
   ]
  },
  {
   "cell_type": "code",
   "execution_count": 6,
   "metadata": {},
   "outputs": [],
   "source": [
    "def transform(df):\n",
    "    \"\"\"This function converts data from boolean to numeric.\"\"\"\n",
    "    notmath_columns = [col for col in df.columns.values if df[col].dtype == 'bool']\n",
    "    for i in notmath_columns:\n",
    "        labels = df[i].unique().tolist()\n",
    "        df[i] = df[i].apply(lambda x: labels.index(x))\n",
    "\n",
    "    return df"
   ]
  },
  {
   "cell_type": "code",
   "execution_count": 7,
   "metadata": {},
   "outputs": [],
   "source": [
    "def delete_error(df, df1):\n",
    "    \"\"\"This function removes features and data based on critical values.\"\"\"\n",
    "    columns_list = df.columns\n",
    "    error_columns = []\n",
    "    error_data = []\n",
    "    error_low = []\n",
    "    \n",
    "    for col in columns_list:\n",
    "        j = 0\n",
    "        # count the total number of string types in the column\n",
    "        for i in range(len(df)):\n",
    "            if isinstance(df.loc[i, col], str):\n",
    "                j += 1\n",
    "            else:\n",
    "                continue\n",
    "        # group together columns whose total number of strings is greater than a threshold\n",
    "        if j > 30:\n",
    "            error_columns.append(col)\n",
    "        # group together columns whose total number of strings is less than a critical value\n",
    "        elif j >= 1:\n",
    "            error_data.append(col)\n",
    "    \n",
    "    # delete the corresponding features whose \n",
    "    # total number of strings is greater than the critical value\n",
    "    for i in error_columns:\n",
    "        df.drop(i, axis=1, inplace=True)\n",
    "    \n",
    "    #  delete the data corresponding to the string\n",
    "    for i in range(len(df)):\n",
    "        for col in error_data:\n",
    "            # Judge the data type one by one and delete the data of type string\n",
    "            if isinstance(df.loc[i, col], str):\n",
    "                df.drop(i, axis=0, inplace=True)\n",
    "                df1.drop(i, axis=0, inplace=True)\n",
    "                error_low.append(i)\n",
    "                break\n",
    "            else:\n",
    "                continue\n",
    "    df.reset_index(drop=True, inplace=True)\n",
    "    df1.reset_index(drop=True, inplace=True)\n",
    "\n",
    "    return df, df1, error_low"
   ]
  },
  {
   "cell_type": "code",
   "execution_count": 8,
   "metadata": {},
   "outputs": [
    {
     "name": "stderr",
     "output_type": "stream",
     "text": [
      "100%|██████████| 2420/2420 [03:38<00:00, 11.07it/s]\n"
     ]
    }
   ],
   "source": [
    "if __name__ == \"__main__\":\n",
    "    # set the logger\n",
    "    lg = RDLogger.logger()\n",
    "    lg.setLevel(RDLogger.CRITICAL)\n",
    "    # generate 3D files\n",
    "    df_unique = convert_3d(df=alldata, sdf_fname=\"../../../VDss_dataset/VDss_3d.sdf\")\n",
    "    # delete data that failed to generate 3D successfully\n",
    "    data = drop_error_data(df_unique)\n",
    "    # compute descriptor\n",
    "    calculator_descriptors = calculator_descriptors(\"../../../VDss_dataset/VDss_3d.sdf\")\n",
    "    # bool type descriptor converted to numeric type\n",
    "    features = transform(calculator_descriptors)\n",
    "    # save feature and data files\n",
    "    features.to_excel(\"descriptors.xlsx\", index=False)\n",
    "    data.to_excel(\"data.xlsx\", index=False)"
   ]
  },
  {
   "cell_type": "code",
   "execution_count": 9,
   "metadata": {},
   "outputs": [],
   "source": [
    "# read data\n",
    "features = pd.read_excel(r\"descriptors.xlsx\")\n",
    "data = pd.read_excel(r\"data.xlsx\")"
   ]
  },
  {
   "cell_type": "code",
   "execution_count": 10,
   "metadata": {},
   "outputs": [
    {
     "name": "stdout",
     "output_type": "stream",
     "text": [
      "<class 'pandas.core.frame.DataFrame'>\n",
      "RangeIndex: 2420 entries, 0 to 2419\n",
      "Columns: 1826 entries, ABC to mZagreb2\n",
      "dtypes: float64(948), int64(341), object(537)\n",
      "memory usage: 33.7+ MB\n"
     ]
    }
   ],
   "source": [
    "# output feature information\n",
    "features.info()"
   ]
  },
  {
   "cell_type": "code",
   "execution_count": 11,
   "metadata": {},
   "outputs": [],
   "source": [
    "# remove wrong rows and columns in feature matrix\n",
    "features, data, error_lows = delete_error(features, data)"
   ]
  },
  {
   "cell_type": "code",
   "execution_count": 12,
   "metadata": {},
   "outputs": [],
   "source": [
    "# turn data into tables\n",
    "error_lows = pd.DataFrame(error_lows)"
   ]
  },
  {
   "cell_type": "code",
   "execution_count": 13,
   "metadata": {},
   "outputs": [
    {
     "data": {
      "text/plain": [
       "0"
      ]
     },
     "execution_count": 13,
     "metadata": {},
     "output_type": "execute_result"
    }
   ],
   "source": [
    "# count the number of duplicate data\n",
    "features.duplicated().sum()"
   ]
  },
  {
   "cell_type": "code",
   "execution_count": 14,
   "metadata": {},
   "outputs": [
    {
     "name": "stdout",
     "output_type": "stream",
     "text": [
      "feature shape:  (2370, 1443)\n"
     ]
    }
   ],
   "source": [
    "print(\"feature shape: \", features.shape)"
   ]
  },
  {
   "cell_type": "code",
   "execution_count": 15,
   "metadata": {},
   "outputs": [],
   "source": [
    "# save files\n",
    "features.to_excel(\"descriptors_1.xlsx\", index=False)\n",
    "data.to_excel(\"final_data.xlsx\", index=False)"
   ]
  }
 ],
 "metadata": {
  "kernelspec": {
   "display_name": "Python 3 (ipykernel)",
   "language": "python",
   "name": "python3"
  },
  "language_info": {
   "codemirror_mode": {
    "name": "ipython",
    "version": 3
   },
   "file_extension": ".py",
   "mimetype": "text/x-python",
   "name": "python",
   "nbconvert_exporter": "python",
   "pygments_lexer": "ipython3",
   "version": "3.7.10"
  }
 },
 "nbformat": 4,
 "nbformat_minor": 4
}
